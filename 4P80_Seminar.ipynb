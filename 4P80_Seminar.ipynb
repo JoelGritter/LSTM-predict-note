{
  "nbformat": 4,
  "nbformat_minor": 0,
  "metadata": {
    "colab": {
      "name": "4P80_Seminar",
      "provenance": [],
      "collapsed_sections": [],
      "toc_visible": true
    },
    "kernelspec": {
      "name": "python3",
      "display_name": "Python 3"
    }
  },
  "cells": [
    {
      "cell_type": "markdown",
      "metadata": {
        "id": "0q7bjLTa2ksR"
      },
      "source": [
        "Joel Gritter & Kindeep Singh Kargil\n",
        "\n",
        "COSC 4P80 - Seminar Demo\n",
        "\n",
        "March 29, 2021"
      ]
    },
    {
      "cell_type": "code",
      "metadata": {
        "id": "z51tQN3V-5ZQ",
        "colab": {
          "base_uri": "https://localhost:8080/"
        },
        "outputId": "22068881-39b4-4744-a547-fccdc4109bda"
      },
      "source": [
        "# Music output\n",
        "!sudo apt-get install fluidsynth\n",
        "!pip install midi2audio\n",
        "!pip install mingus\n",
        "from mingus.containers import Note, NoteContainer, Track\n",
        "from mingus.midi.midi_file_out import write_NoteContainer, write_Track\n",
        "from midi2audio import FluidSynth\n",
        "\n",
        "fsy = FluidSynth()\n",
        "\n",
        "# imports for data manipulation\n",
        "import numpy as np\n",
        "import pandas as pd\n",
        "from sklearn.model_selection import train_test_split\n",
        "\n",
        "# imports for machine learning\n",
        "import keras\n",
        "from keras.models import Sequential\n",
        "from keras.layers import Dense, LSTM"
      ],
      "execution_count": null,
      "outputs": [
        {
          "output_type": "stream",
          "text": [
            "Reading package lists... Done\n",
            "Building dependency tree       \n",
            "Reading state information... Done\n",
            "The following additional packages will be installed:\n",
            "  fluid-soundfont-gm libfluidsynth1 libqt5x11extras5 qsynth\n",
            "Suggested packages:\n",
            "  fluid-soundfont-gs timidity jackd\n",
            "The following NEW packages will be installed:\n",
            "  fluid-soundfont-gm fluidsynth libfluidsynth1 libqt5x11extras5 qsynth\n",
            "0 upgraded, 5 newly installed, 0 to remove and 30 not upgraded.\n",
            "Need to get 120 MB of archives.\n",
            "After this operation, 150 MB of additional disk space will be used.\n",
            "Get:1 http://archive.ubuntu.com/ubuntu bionic/universe amd64 fluid-soundfont-gm all 3.1-5.1 [119 MB]\n",
            "Get:2 http://archive.ubuntu.com/ubuntu bionic/universe amd64 libfluidsynth1 amd64 1.1.9-1 [137 kB]\n",
            "Get:3 http://archive.ubuntu.com/ubuntu bionic/universe amd64 fluidsynth amd64 1.1.9-1 [20.7 kB]\n",
            "Get:4 http://archive.ubuntu.com/ubuntu bionic/universe amd64 libqt5x11extras5 amd64 5.9.5-0ubuntu1 [8,596 B]\n",
            "Get:5 http://archive.ubuntu.com/ubuntu bionic/universe amd64 qsynth amd64 0.5.0-2 [191 kB]\n",
            "Fetched 120 MB in 4s (27.1 MB/s)\n",
            "debconf: unable to initialize frontend: Dialog\n",
            "debconf: (No usable dialog-like program is installed, so the dialog based frontend cannot be used. at /usr/share/perl5/Debconf/FrontEnd/Dialog.pm line 76, <> line 5.)\n",
            "debconf: falling back to frontend: Readline\n",
            "debconf: unable to initialize frontend: Readline\n",
            "debconf: (This frontend requires a controlling tty.)\n",
            "debconf: falling back to frontend: Teletype\n",
            "dpkg-preconfigure: unable to re-open stdin: \n",
            "Selecting previously unselected package fluid-soundfont-gm.\n",
            "(Reading database ... 160980 files and directories currently installed.)\n",
            "Preparing to unpack .../fluid-soundfont-gm_3.1-5.1_all.deb ...\n",
            "Unpacking fluid-soundfont-gm (3.1-5.1) ...\n",
            "Selecting previously unselected package libfluidsynth1:amd64.\n",
            "Preparing to unpack .../libfluidsynth1_1.1.9-1_amd64.deb ...\n",
            "Unpacking libfluidsynth1:amd64 (1.1.9-1) ...\n",
            "Selecting previously unselected package fluidsynth.\n",
            "Preparing to unpack .../fluidsynth_1.1.9-1_amd64.deb ...\n",
            "Unpacking fluidsynth (1.1.9-1) ...\n",
            "Selecting previously unselected package libqt5x11extras5:amd64.\n",
            "Preparing to unpack .../libqt5x11extras5_5.9.5-0ubuntu1_amd64.deb ...\n",
            "Unpacking libqt5x11extras5:amd64 (5.9.5-0ubuntu1) ...\n",
            "Selecting previously unselected package qsynth.\n",
            "Preparing to unpack .../qsynth_0.5.0-2_amd64.deb ...\n",
            "Unpacking qsynth (0.5.0-2) ...\n",
            "Setting up libqt5x11extras5:amd64 (5.9.5-0ubuntu1) ...\n",
            "Setting up fluid-soundfont-gm (3.1-5.1) ...\n",
            "Setting up libfluidsynth1:amd64 (1.1.9-1) ...\n",
            "Setting up fluidsynth (1.1.9-1) ...\n",
            "Setting up qsynth (0.5.0-2) ...\n",
            "Processing triggers for hicolor-icon-theme (0.17-2) ...\n",
            "Processing triggers for mime-support (3.60ubuntu1) ...\n",
            "Processing triggers for libc-bin (2.27-3ubuntu1.2) ...\n",
            "/sbin/ldconfig.real: /usr/local/lib/python3.7/dist-packages/ideep4py/lib/libmkldnn.so.0 is not a symbolic link\n",
            "\n",
            "Processing triggers for man-db (2.8.3-2ubuntu0.1) ...\n",
            "Collecting midi2audio\n",
            "  Downloading https://files.pythonhosted.org/packages/55/75/23618a687fc2391192c9d9ec8906a198a3f318f146388d3b96f779826d43/midi2audio-0.1.1-py2.py3-none-any.whl\n",
            "Installing collected packages: midi2audio\n",
            "Successfully installed midi2audio-0.1.1\n",
            "Collecting mingus\n",
            "\u001b[?25l  Downloading https://files.pythonhosted.org/packages/38/10/1203d8059ade882b5951cf52afaf594d7a6eda95b0cd7799916e9734b451/mingus-0.6.1-py2.py3-none-any.whl (140kB)\n",
            "\u001b[K     |████████████████████████████████| 143kB 6.0MB/s \n",
            "\u001b[?25hRequirement already satisfied: six in /usr/local/lib/python3.7/dist-packages (from mingus) (1.15.0)\n",
            "Installing collected packages: mingus\n",
            "Successfully installed mingus-0.6.1\n"
          ],
          "name": "stdout"
        }
      ]
    },
    {
      "cell_type": "code",
      "metadata": {
        "id": "wR_1giDiDHN4"
      },
      "source": [
        "# read in the notes, make an array with 0's, except for the current note\n",
        "def read_and_format(input_filepath):\n",
        "  input_data = []\n",
        "  with open(input_filepath) as input_file:\n",
        "    for line in input_file:\n",
        "      values = line.split(\",\")\n",
        "      for value in values:\n",
        "        tmp = [0.0] * 88\n",
        "        v = int(value)\n",
        "        tmp[v-1] = 1.0\n",
        "        input_data.append(tmp)\n",
        "  \n",
        "  return input_data\n",
        "  \n",
        "\n",
        "input_data = read_and_format(\"k330-allegro-moderato.csv\")"
      ],
      "execution_count": null,
      "outputs": []
    },
    {
      "cell_type": "code",
      "metadata": {
        "id": "ZZmz0vCDrdfe",
        "colab": {
          "base_uri": "https://localhost:8080/"
        },
        "outputId": "5537646d-4eac-43a2-916e-f34f08778d33"
      },
      "source": [
        "# get the previous 20 notes, predict the next note\n",
        "def generate_datasets(input_array, n_prev = 20):\n",
        "  temp_x = [input_array[i:i+n_prev] for i in range(len(input_array) - n_prev)]\n",
        "  temp_y = [input_array[i+n_prev] for i in range(len(input_array) - n_prev)]\n",
        "\n",
        "  return np.array(temp_x), np.array(temp_y)\n",
        "\n",
        "x, y = generate_datasets(input_data)\n",
        "x_train, x_test, y_train, y_test = train_test_split(x, y, test_size=0.20, shuffle=False)\n",
        "\n",
        "print(x_train.shape, y_train.shape)\n",
        "print(x_test.shape, y_test.shape)\n",
        "print(y_train[0])"
      ],
      "execution_count": null,
      "outputs": [
        {
          "output_type": "stream",
          "text": [
            "(2008, 20, 88) (2008, 88)\n",
            "(502, 20, 88) (502, 88)\n",
            "[0. 0. 0. 0. 0. 0. 0. 0. 0. 0. 0. 0. 0. 0. 0. 0. 0. 0. 0. 0. 0. 0. 0. 0.\n",
            " 0. 0. 0. 0. 0. 0. 0. 0. 0. 0. 0. 0. 0. 0. 0. 0. 0. 0. 0. 0. 0. 0. 0. 0.\n",
            " 0. 0. 0. 0. 0. 1. 0. 0. 0. 0. 0. 0. 0. 0. 0. 0. 0. 0. 0. 0. 0. 0. 0. 0.\n",
            " 0. 0. 0. 0. 0. 0. 0. 0. 0. 0. 0. 0. 0. 0. 0. 0.]\n"
          ],
          "name": "stdout"
        }
      ]
    },
    {
      "cell_type": "code",
      "metadata": {
        "id": "Be0VQFAlqlPA"
      },
      "source": [
        "# build the model itself\n",
        "model = Sequential()\n",
        "model.add(LSTM(30))\n",
        "model.add(Dense(88, activation=\"softmax\"))\n",
        "model.compile(loss='categorical_crossentropy', optimizer='adam', metrics=['accuracy'])"
      ],
      "execution_count": null,
      "outputs": []
    },
    {
      "cell_type": "code",
      "metadata": {
        "id": "odZ6VCKIsLJ8",
        "colab": {
          "base_uri": "https://localhost:8080/"
        },
        "outputId": "8bd85a38-3c02-4f7c-bfeb-4bc50ec0d82c"
      },
      "source": [
        "# train the model\n",
        "model.fit(x_train, y_train, batch_size=10, epochs=100, validation_split=0.05)"
      ],
      "execution_count": null,
      "outputs": [
        {
          "output_type": "stream",
          "text": [
            "Epoch 1/100\n",
            "191/191 [==============================] - 6s 16ms/step - loss: 3.7611 - accuracy: 0.1142 - val_loss: 2.4947 - val_accuracy: 0.1683\n",
            "Epoch 2/100\n",
            "191/191 [==============================] - 2s 11ms/step - loss: 2.7096 - accuracy: 0.1582 - val_loss: 2.4281 - val_accuracy: 0.1683\n",
            "Epoch 3/100\n",
            "191/191 [==============================] - 2s 10ms/step - loss: 2.6589 - accuracy: 0.1553 - val_loss: 2.4447 - val_accuracy: 0.1683\n",
            "Epoch 4/100\n",
            "191/191 [==============================] - 2s 11ms/step - loss: 2.6416 - accuracy: 0.1686 - val_loss: 2.3916 - val_accuracy: 0.2178\n",
            "Epoch 5/100\n",
            "191/191 [==============================] - 2s 11ms/step - loss: 2.5794 - accuracy: 0.1843 - val_loss: 2.3179 - val_accuracy: 0.2871\n",
            "Epoch 6/100\n",
            "191/191 [==============================] - 2s 11ms/step - loss: 2.4923 - accuracy: 0.2081 - val_loss: 2.2978 - val_accuracy: 0.3564\n",
            "Epoch 7/100\n",
            "191/191 [==============================] - 2s 11ms/step - loss: 2.3799 - accuracy: 0.2602 - val_loss: 2.2254 - val_accuracy: 0.3762\n",
            "Epoch 8/100\n",
            "191/191 [==============================] - 2s 11ms/step - loss: 2.3552 - accuracy: 0.2707 - val_loss: 2.1574 - val_accuracy: 0.3861\n",
            "Epoch 9/100\n",
            "191/191 [==============================] - 2s 11ms/step - loss: 2.2800 - accuracy: 0.3062 - val_loss: 2.0989 - val_accuracy: 0.2970\n",
            "Epoch 10/100\n",
            "191/191 [==============================] - 2s 11ms/step - loss: 2.2424 - accuracy: 0.3251 - val_loss: 2.0390 - val_accuracy: 0.3465\n",
            "Epoch 11/100\n",
            "191/191 [==============================] - 2s 11ms/step - loss: 2.1628 - accuracy: 0.3360 - val_loss: 1.9998 - val_accuracy: 0.3465\n",
            "Epoch 12/100\n",
            "191/191 [==============================] - 2s 11ms/step - loss: 2.0921 - accuracy: 0.3413 - val_loss: 1.9526 - val_accuracy: 0.3465\n",
            "Epoch 13/100\n",
            "191/191 [==============================] - 2s 11ms/step - loss: 2.0771 - accuracy: 0.3449 - val_loss: 1.8958 - val_accuracy: 0.3366\n",
            "Epoch 14/100\n",
            "191/191 [==============================] - 2s 11ms/step - loss: 1.9936 - accuracy: 0.3799 - val_loss: 1.8466 - val_accuracy: 0.3663\n",
            "Epoch 15/100\n",
            "191/191 [==============================] - 2s 11ms/step - loss: 1.9583 - accuracy: 0.3991 - val_loss: 1.8053 - val_accuracy: 0.3960\n",
            "Epoch 16/100\n",
            "191/191 [==============================] - 2s 10ms/step - loss: 1.8915 - accuracy: 0.4093 - val_loss: 1.7895 - val_accuracy: 0.3663\n",
            "Epoch 17/100\n",
            "191/191 [==============================] - 2s 10ms/step - loss: 1.8728 - accuracy: 0.4223 - val_loss: 1.7398 - val_accuracy: 0.4158\n",
            "Epoch 18/100\n",
            "191/191 [==============================] - 2s 11ms/step - loss: 1.8188 - accuracy: 0.4440 - val_loss: 1.7246 - val_accuracy: 0.4158\n",
            "Epoch 19/100\n",
            "191/191 [==============================] - 2s 10ms/step - loss: 1.8128 - accuracy: 0.4342 - val_loss: 1.6913 - val_accuracy: 0.3663\n",
            "Epoch 20/100\n",
            "191/191 [==============================] - 2s 11ms/step - loss: 1.7524 - accuracy: 0.4446 - val_loss: 1.6505 - val_accuracy: 0.4158\n",
            "Epoch 21/100\n",
            "191/191 [==============================] - 2s 11ms/step - loss: 1.7596 - accuracy: 0.4485 - val_loss: 1.6368 - val_accuracy: 0.3960\n",
            "Epoch 22/100\n",
            "191/191 [==============================] - 2s 11ms/step - loss: 1.6474 - accuracy: 0.4839 - val_loss: 1.6714 - val_accuracy: 0.3960\n",
            "Epoch 23/100\n",
            "191/191 [==============================] - 2s 11ms/step - loss: 1.6304 - accuracy: 0.4960 - val_loss: 1.6391 - val_accuracy: 0.4455\n",
            "Epoch 24/100\n",
            "191/191 [==============================] - 2s 11ms/step - loss: 1.6343 - accuracy: 0.4772 - val_loss: 1.5900 - val_accuracy: 0.4752\n",
            "Epoch 25/100\n",
            "191/191 [==============================] - 2s 11ms/step - loss: 1.5891 - accuracy: 0.4970 - val_loss: 1.5855 - val_accuracy: 0.3960\n",
            "Epoch 26/100\n",
            "191/191 [==============================] - 2s 11ms/step - loss: 1.5732 - accuracy: 0.4929 - val_loss: 1.5649 - val_accuracy: 0.3663\n",
            "Epoch 27/100\n",
            "191/191 [==============================] - 2s 11ms/step - loss: 1.5270 - accuracy: 0.5040 - val_loss: 1.5279 - val_accuracy: 0.4455\n",
            "Epoch 28/100\n",
            "191/191 [==============================] - 2s 10ms/step - loss: 1.5258 - accuracy: 0.5024 - val_loss: 1.5113 - val_accuracy: 0.4356\n",
            "Epoch 29/100\n",
            "191/191 [==============================] - 2s 11ms/step - loss: 1.4441 - accuracy: 0.5379 - val_loss: 1.5157 - val_accuracy: 0.4455\n",
            "Epoch 30/100\n",
            "191/191 [==============================] - 2s 11ms/step - loss: 1.4606 - accuracy: 0.5369 - val_loss: 1.4883 - val_accuracy: 0.4554\n",
            "Epoch 31/100\n",
            "191/191 [==============================] - 2s 11ms/step - loss: 1.4745 - accuracy: 0.5407 - val_loss: 1.5050 - val_accuracy: 0.4653\n",
            "Epoch 32/100\n",
            "191/191 [==============================] - 2s 10ms/step - loss: 1.3696 - accuracy: 0.5770 - val_loss: 1.4865 - val_accuracy: 0.4554\n",
            "Epoch 33/100\n",
            "191/191 [==============================] - 2s 11ms/step - loss: 1.3662 - accuracy: 0.5665 - val_loss: 1.4850 - val_accuracy: 0.4356\n",
            "Epoch 34/100\n",
            "191/191 [==============================] - 2s 10ms/step - loss: 1.3434 - accuracy: 0.5791 - val_loss: 1.4000 - val_accuracy: 0.4653\n",
            "Epoch 35/100\n",
            "191/191 [==============================] - 2s 11ms/step - loss: 1.3380 - accuracy: 0.5687 - val_loss: 1.3990 - val_accuracy: 0.4950\n",
            "Epoch 36/100\n",
            "191/191 [==============================] - 2s 11ms/step - loss: 1.3088 - accuracy: 0.5874 - val_loss: 1.3972 - val_accuracy: 0.5347\n",
            "Epoch 37/100\n",
            "191/191 [==============================] - 2s 10ms/step - loss: 1.2171 - accuracy: 0.6325 - val_loss: 1.4489 - val_accuracy: 0.4752\n",
            "Epoch 38/100\n",
            "191/191 [==============================] - 2s 11ms/step - loss: 1.2771 - accuracy: 0.6144 - val_loss: 1.3606 - val_accuracy: 0.4653\n",
            "Epoch 39/100\n",
            "191/191 [==============================] - 2s 11ms/step - loss: 1.2244 - accuracy: 0.6202 - val_loss: 1.3670 - val_accuracy: 0.5149\n",
            "Epoch 40/100\n",
            "191/191 [==============================] - 2s 11ms/step - loss: 1.2001 - accuracy: 0.6179 - val_loss: 1.3295 - val_accuracy: 0.4851\n",
            "Epoch 41/100\n",
            "191/191 [==============================] - 2s 10ms/step - loss: 1.2075 - accuracy: 0.6454 - val_loss: 1.3026 - val_accuracy: 0.4851\n",
            "Epoch 42/100\n",
            "191/191 [==============================] - 2s 11ms/step - loss: 1.1730 - accuracy: 0.6421 - val_loss: 1.2933 - val_accuracy: 0.5050\n",
            "Epoch 43/100\n",
            "191/191 [==============================] - 2s 11ms/step - loss: 1.1630 - accuracy: 0.6337 - val_loss: 1.2829 - val_accuracy: 0.5446\n",
            "Epoch 44/100\n",
            "191/191 [==============================] - 2s 11ms/step - loss: 1.0952 - accuracy: 0.6619 - val_loss: 1.2948 - val_accuracy: 0.5842\n",
            "Epoch 45/100\n",
            "191/191 [==============================] - 2s 11ms/step - loss: 1.1223 - accuracy: 0.6549 - val_loss: 1.2930 - val_accuracy: 0.4950\n",
            "Epoch 46/100\n",
            "191/191 [==============================] - 2s 11ms/step - loss: 1.0794 - accuracy: 0.6806 - val_loss: 1.2842 - val_accuracy: 0.4851\n",
            "Epoch 47/100\n",
            "191/191 [==============================] - 2s 11ms/step - loss: 1.1175 - accuracy: 0.6614 - val_loss: 1.2458 - val_accuracy: 0.5149\n",
            "Epoch 48/100\n",
            "191/191 [==============================] - 2s 10ms/step - loss: 1.0806 - accuracy: 0.6733 - val_loss: 1.2573 - val_accuracy: 0.5248\n",
            "Epoch 49/100\n",
            "191/191 [==============================] - 2s 11ms/step - loss: 1.0483 - accuracy: 0.7006 - val_loss: 1.2495 - val_accuracy: 0.5149\n",
            "Epoch 50/100\n",
            "191/191 [==============================] - 2s 10ms/step - loss: 1.0444 - accuracy: 0.6846 - val_loss: 1.1592 - val_accuracy: 0.6337\n",
            "Epoch 51/100\n",
            "191/191 [==============================] - 2s 10ms/step - loss: 1.0164 - accuracy: 0.6928 - val_loss: 1.2330 - val_accuracy: 0.5644\n",
            "Epoch 52/100\n",
            "191/191 [==============================] - 2s 11ms/step - loss: 0.9859 - accuracy: 0.7201 - val_loss: 1.2033 - val_accuracy: 0.5149\n",
            "Epoch 53/100\n",
            "191/191 [==============================] - 2s 10ms/step - loss: 0.9835 - accuracy: 0.7174 - val_loss: 1.1692 - val_accuracy: 0.6040\n",
            "Epoch 54/100\n",
            "191/191 [==============================] - 2s 11ms/step - loss: 0.9618 - accuracy: 0.7273 - val_loss: 1.1628 - val_accuracy: 0.5941\n",
            "Epoch 55/100\n",
            "191/191 [==============================] - 2s 11ms/step - loss: 0.9468 - accuracy: 0.7312 - val_loss: 1.1599 - val_accuracy: 0.5644\n",
            "Epoch 56/100\n",
            "191/191 [==============================] - 2s 11ms/step - loss: 0.9274 - accuracy: 0.7230 - val_loss: 1.1576 - val_accuracy: 0.5941\n",
            "Epoch 57/100\n",
            "191/191 [==============================] - 2s 10ms/step - loss: 0.8955 - accuracy: 0.7465 - val_loss: 1.0962 - val_accuracy: 0.6139\n",
            "Epoch 58/100\n",
            "191/191 [==============================] - 2s 11ms/step - loss: 0.8871 - accuracy: 0.7462 - val_loss: 1.1255 - val_accuracy: 0.6139\n",
            "Epoch 59/100\n",
            "191/191 [==============================] - 2s 11ms/step - loss: 0.9102 - accuracy: 0.7424 - val_loss: 1.0350 - val_accuracy: 0.6238\n",
            "Epoch 60/100\n",
            "191/191 [==============================] - 2s 11ms/step - loss: 0.8594 - accuracy: 0.7539 - val_loss: 1.0454 - val_accuracy: 0.6238\n",
            "Epoch 61/100\n",
            "191/191 [==============================] - 2s 11ms/step - loss: 0.8415 - accuracy: 0.7549 - val_loss: 1.0587 - val_accuracy: 0.5941\n",
            "Epoch 62/100\n",
            "191/191 [==============================] - 2s 11ms/step - loss: 0.8575 - accuracy: 0.7543 - val_loss: 1.0819 - val_accuracy: 0.5941\n",
            "Epoch 63/100\n",
            "191/191 [==============================] - 2s 10ms/step - loss: 0.8310 - accuracy: 0.7798 - val_loss: 1.0308 - val_accuracy: 0.6139\n",
            "Epoch 64/100\n",
            "191/191 [==============================] - 2s 11ms/step - loss: 0.8028 - accuracy: 0.7824 - val_loss: 1.0728 - val_accuracy: 0.6139\n",
            "Epoch 65/100\n",
            "191/191 [==============================] - 2s 11ms/step - loss: 0.7895 - accuracy: 0.7811 - val_loss: 1.0525 - val_accuracy: 0.6238\n",
            "Epoch 66/100\n",
            "191/191 [==============================] - 2s 11ms/step - loss: 0.8086 - accuracy: 0.7743 - val_loss: 0.9487 - val_accuracy: 0.6931\n",
            "Epoch 67/100\n",
            "191/191 [==============================] - 2s 10ms/step - loss: 0.7382 - accuracy: 0.8018 - val_loss: 0.9481 - val_accuracy: 0.6733\n",
            "Epoch 68/100\n",
            "191/191 [==============================] - 2s 11ms/step - loss: 0.7421 - accuracy: 0.8017 - val_loss: 0.9407 - val_accuracy: 0.6733\n",
            "Epoch 69/100\n",
            "191/191 [==============================] - 2s 11ms/step - loss: 0.7662 - accuracy: 0.7855 - val_loss: 1.0333 - val_accuracy: 0.6040\n",
            "Epoch 70/100\n",
            "191/191 [==============================] - 2s 11ms/step - loss: 0.7624 - accuracy: 0.7910 - val_loss: 0.9144 - val_accuracy: 0.6733\n",
            "Epoch 71/100\n",
            "191/191 [==============================] - 2s 11ms/step - loss: 0.6825 - accuracy: 0.8172 - val_loss: 0.9601 - val_accuracy: 0.6733\n",
            "Epoch 72/100\n",
            "191/191 [==============================] - 2s 11ms/step - loss: 0.7098 - accuracy: 0.8095 - val_loss: 0.9141 - val_accuracy: 0.6733\n",
            "Epoch 73/100\n",
            "191/191 [==============================] - 2s 10ms/step - loss: 0.6931 - accuracy: 0.7968 - val_loss: 0.9141 - val_accuracy: 0.6337\n",
            "Epoch 74/100\n",
            "191/191 [==============================] - 2s 11ms/step - loss: 0.6541 - accuracy: 0.8207 - val_loss: 0.8738 - val_accuracy: 0.6931\n",
            "Epoch 75/100\n",
            "191/191 [==============================] - 2s 10ms/step - loss: 0.6887 - accuracy: 0.8111 - val_loss: 0.8300 - val_accuracy: 0.7327\n",
            "Epoch 76/100\n",
            "191/191 [==============================] - 2s 11ms/step - loss: 0.6984 - accuracy: 0.8025 - val_loss: 0.8043 - val_accuracy: 0.7327\n",
            "Epoch 77/100\n",
            "191/191 [==============================] - 2s 11ms/step - loss: 0.6545 - accuracy: 0.8240 - val_loss: 0.8645 - val_accuracy: 0.7327\n",
            "Epoch 78/100\n",
            "191/191 [==============================] - 2s 11ms/step - loss: 0.6499 - accuracy: 0.8295 - val_loss: 0.8253 - val_accuracy: 0.7525\n",
            "Epoch 79/100\n",
            "191/191 [==============================] - 2s 11ms/step - loss: 0.6538 - accuracy: 0.8221 - val_loss: 0.7988 - val_accuracy: 0.7426\n",
            "Epoch 80/100\n",
            "191/191 [==============================] - 2s 11ms/step - loss: 0.5863 - accuracy: 0.8400 - val_loss: 0.7922 - val_accuracy: 0.7723\n",
            "Epoch 81/100\n",
            "191/191 [==============================] - 2s 11ms/step - loss: 0.6014 - accuracy: 0.8439 - val_loss: 0.9175 - val_accuracy: 0.6733\n",
            "Epoch 82/100\n",
            "191/191 [==============================] - 2s 10ms/step - loss: 0.5840 - accuracy: 0.8490 - val_loss: 0.7654 - val_accuracy: 0.7030\n",
            "Epoch 83/100\n",
            "191/191 [==============================] - 2s 11ms/step - loss: 0.6007 - accuracy: 0.8288 - val_loss: 0.8110 - val_accuracy: 0.7327\n",
            "Epoch 84/100\n",
            "191/191 [==============================] - 2s 10ms/step - loss: 0.5813 - accuracy: 0.8554 - val_loss: 0.8648 - val_accuracy: 0.7129\n",
            "Epoch 85/100\n",
            "191/191 [==============================] - 2s 10ms/step - loss: 0.5731 - accuracy: 0.8376 - val_loss: 0.7339 - val_accuracy: 0.7822\n",
            "Epoch 86/100\n",
            "191/191 [==============================] - 2s 11ms/step - loss: 0.5895 - accuracy: 0.8443 - val_loss: 0.7564 - val_accuracy: 0.7624\n",
            "Epoch 87/100\n",
            "191/191 [==============================] - 2s 11ms/step - loss: 0.5381 - accuracy: 0.8648 - val_loss: 0.7113 - val_accuracy: 0.8119\n",
            "Epoch 88/100\n",
            "191/191 [==============================] - 2s 11ms/step - loss: 0.5460 - accuracy: 0.8627 - val_loss: 0.8070 - val_accuracy: 0.7228\n",
            "Epoch 89/100\n",
            "191/191 [==============================] - 2s 11ms/step - loss: 0.5662 - accuracy: 0.8459 - val_loss: 0.7401 - val_accuracy: 0.8020\n",
            "Epoch 90/100\n",
            "191/191 [==============================] - 2s 11ms/step - loss: 0.4906 - accuracy: 0.8836 - val_loss: 0.7064 - val_accuracy: 0.7921\n",
            "Epoch 91/100\n",
            "191/191 [==============================] - 2s 11ms/step - loss: 0.5065 - accuracy: 0.8747 - val_loss: 0.6897 - val_accuracy: 0.8020\n",
            "Epoch 92/100\n",
            "191/191 [==============================] - 2s 11ms/step - loss: 0.5337 - accuracy: 0.8643 - val_loss: 0.6549 - val_accuracy: 0.8119\n",
            "Epoch 93/100\n",
            "191/191 [==============================] - 2s 11ms/step - loss: 0.5328 - accuracy: 0.8568 - val_loss: 0.6918 - val_accuracy: 0.8515\n",
            "Epoch 94/100\n",
            "191/191 [==============================] - 2s 10ms/step - loss: 0.4842 - accuracy: 0.8729 - val_loss: 0.6519 - val_accuracy: 0.8416\n",
            "Epoch 95/100\n",
            "191/191 [==============================] - 2s 10ms/step - loss: 0.4746 - accuracy: 0.8683 - val_loss: 0.6246 - val_accuracy: 0.8515\n",
            "Epoch 96/100\n",
            "191/191 [==============================] - 2s 10ms/step - loss: 0.4597 - accuracy: 0.8879 - val_loss: 0.6044 - val_accuracy: 0.8515\n",
            "Epoch 97/100\n",
            "191/191 [==============================] - 2s 10ms/step - loss: 0.4517 - accuracy: 0.8939 - val_loss: 0.7813 - val_accuracy: 0.7327\n",
            "Epoch 98/100\n",
            "191/191 [==============================] - 2s 11ms/step - loss: 0.5121 - accuracy: 0.8671 - val_loss: 0.5914 - val_accuracy: 0.8713\n",
            "Epoch 99/100\n",
            "191/191 [==============================] - 2s 11ms/step - loss: 0.4481 - accuracy: 0.8884 - val_loss: 0.6478 - val_accuracy: 0.8416\n",
            "Epoch 100/100\n",
            "191/191 [==============================] - 2s 11ms/step - loss: 0.4428 - accuracy: 0.8891 - val_loss: 0.6393 - val_accuracy: 0.8515\n"
          ],
          "name": "stdout"
        },
        {
          "output_type": "execute_result",
          "data": {
            "text/plain": [
              "<tensorflow.python.keras.callbacks.History at 0x7f33463499d0>"
            ]
          },
          "metadata": {
            "tags": []
          },
          "execution_count": 5
        }
      ]
    },
    {
      "cell_type": "code",
      "metadata": {
        "id": "ucPR1Hp5vIUT",
        "colab": {
          "base_uri": "https://localhost:8080/"
        },
        "outputId": "3387e71a-a564-4e31-fb17-0ce5aad749f6"
      },
      "source": [
        "# test the model\n",
        "model.evaluate(x_test, y_test)"
      ],
      "execution_count": null,
      "outputs": [
        {
          "output_type": "stream",
          "text": [
            "16/16 [==============================] - 0s 4ms/step - loss: 0.7386 - accuracy: 0.7888\n"
          ],
          "name": "stdout"
        },
        {
          "output_type": "execute_result",
          "data": {
            "text/plain": [
              "[0.7385919094085693, 0.788844645023346]"
            ]
          },
          "metadata": {
            "tags": []
          },
          "execution_count": 6
        }
      ]
    },
    {
      "cell_type": "code",
      "metadata": {
        "id": "kPvGpGVwNIoD",
        "colab": {
          "base_uri": "https://localhost:8080/"
        },
        "outputId": "a3ce2bca-0629-47db-e4ab-99f89413b3cf"
      },
      "source": [
        "# See incorrectly predicted \n",
        "predictions = model.predict(x_test)\n",
        "incorrect_indices = []\n",
        "for (index, (prediction, target)) in enumerate(zip(predictions, y_test)):\n",
        "  pred = np.argmax(prediction)\n",
        "  tar = np.argmax(target)\n",
        "  if pred != tar:\n",
        "    incorrect_indices.append(index)\n",
        "\n",
        "print(\", \".join(map(str, incorrect_indices)))"
      ],
      "execution_count": null,
      "outputs": [
        {
          "output_type": "stream",
          "text": [
            "7, 16, 51, 78, 80, 84, 87, 104, 130, 133, 139, 147, 148, 152, 157, 162, 173, 179, 187, 200, 201, 202, 203, 204, 206, 215, 217, 218, 219, 220, 222, 225, 226, 238, 241, 246, 250, 253, 255, 256, 258, 259, 260, 262, 267, 269, 270, 272, 275, 276, 278, 308, 313, 316, 318, 324, 326, 332, 337, 338, 344, 345, 350, 352, 356, 357, 360, 361, 374, 379, 382, 384, 390, 392, 396, 399, 402, 411, 423, 424, 425, 430, 435, 439, 440, 442, 443, 445, 448, 453, 454, 459, 460, 465, 467, 469, 471, 476, 479, 481, 483, 486, 490, 497, 498, 500\n"
          ],
          "name": "stdout"
        }
      ]
    },
    {
      "cell_type": "code",
      "metadata": {
        "id": "X2WwsRUFm5u0",
        "colab": {
          "base_uri": "https://localhost:8080/"
        },
        "outputId": "e862edbd-0cd8-4a3f-bee7-35ca9ad1c6e1"
      },
      "source": [
        "# Predict song\n",
        "test_in = x_test[0]\n",
        "test_out = y_test[0]\n",
        "# initial - provide inital 20 notes\n",
        "# n - how many predicted notes to add (i.e. expand by this number)\n",
        "def make_big_song(initial, n):\n",
        "  res =[ x for x in initial]\n",
        "  for _ in range(n):\n",
        "    next = model.predict(np.array([res[-20:],]))[0]\n",
        "    res.append(next)\n",
        "\n",
        "  return np.array(res)\n",
        "\n",
        "test = make_big_song(test_in, 60)\n",
        "print(test.shape)"
      ],
      "execution_count": null,
      "outputs": [
        {
          "output_type": "stream",
          "text": [
            "(80, 88)\n"
          ],
          "name": "stdout"
        }
      ]
    },
    {
      "cell_type": "code",
      "metadata": {
        "id": "u7AKlNEV4THd",
        "colab": {
          "base_uri": "https://localhost:8080/"
        },
        "outputId": "b93a2709-cecf-4ca0-a316-f39deebce80e"
      },
      "source": [
        "# Expects n x 88\n",
        "def vector_to_midi(arr, filename=\"nice.midi\"):\n",
        "  track = Track()\n",
        "  for note_arr in arr:\n",
        "    note_num = int(np.argmax(note_arr))\n",
        "    note = Note()\n",
        "    note.from_int(note_num - 3)\n",
        "    track.add_notes(note)\n",
        "  write_Track(filename, track)\n",
        "  print(\"Done!\")\n",
        "  \n",
        "vector_to_midi(test)"
      ],
      "execution_count": null,
      "outputs": [
        {
          "output_type": "stream",
          "text": [
            "Done!\n"
          ],
          "name": "stdout"
        }
      ]
    },
    {
      "cell_type": "code",
      "metadata": {
        "colab": {
          "base_uri": "https://localhost:8080/"
        },
        "id": "aXdjXdBXQ1Hs",
        "outputId": "8139d50e-4a23-4c01-b0e1-407d3fe2e3a4"
      },
      "source": [
        "def predict_to_file(first_20_notes, expected, filename=\"nice\"):\n",
        "  next = model.predict(np.array([first_20_notes]))\n",
        "  actual_next = np.array([expected])\n",
        "  next_file = filename + \"_predicted_note\"\n",
        "  actual_next_file = filename + \"_actual_note\"\n",
        "  orig_file = filename + \"_first_20_notes\"\n",
        "\n",
        "  vector_to_midi(next, next_file + \".midi\")\n",
        "  vector_to_midi(actual_next, actual_next_file + \".midi\")\n",
        "  vector_to_midi(first_20_notes, orig_file + \".midi\")\n",
        "\n",
        "  # This conversion not seem to work\n",
        "  # fsy.midi_to_audio(next_file + \".midi\", next_file + \".mp3\")\n",
        "  # fsy.midi_to_audio(actual_next_file + \".midi\", actual_next_file + \".mp3\")\n",
        "  # fsy.midi_to_audio(orig_file + \".midi\",  orig_file + \".mp3\")\n",
        "\n",
        "predict_to_file(test_in, test_out)\n",
        "\n",
        "inci = incorrect_indices[0]\n",
        "predict_to_file(x_test[inci], y_test[inci], 'first_incorrect')\n"
      ],
      "execution_count": null,
      "outputs": [
        {
          "output_type": "stream",
          "text": [
            "Done!\n",
            "Done!\n",
            "Done!\n",
            "Done!\n",
            "Done!\n",
            "Done!\n"
          ],
          "name": "stdout"
        }
      ]
    }
  ]
}