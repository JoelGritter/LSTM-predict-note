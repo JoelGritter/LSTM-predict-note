{
  "nbformat": 4,
  "nbformat_minor": 0,
  "metadata": {
    "colab": {
      "name": "4P80_Seminar",
      "provenance": [],
      "collapsed_sections": [],
      "toc_visible": true
    },
    "kernelspec": {
      "name": "python3",
      "display_name": "Python 3"
    }
  },
  "cells": [
    {
      "cell_type": "markdown",
      "metadata": {
        "id": "0q7bjLTa2ksR"
      },
      "source": [
        "Joel Gritter & Kindeep Singh Kargil\n",
        "\n",
        "COSC 4P80 - Seminar Demo\n",
        "\n",
        "March 29, 2021"
      ]
    },
    {
      "cell_type": "code",
      "metadata": {
        "id": "z51tQN3V-5ZQ",
        "colab": {
          "base_uri": "https://localhost:8080/"
        },
        "outputId": "3de769bf-51b4-41b6-f333-36fa6b61df2e"
      },
      "source": [
        "# Music output\n",
        "!sudo apt-get install fluidsynth\n",
        "!pip install midi2audio\n",
        "!pip install mingus\n",
        "from mingus.containers import Note, NoteContainer, Track\n",
        "from mingus.midi.midi_file_out import write_NoteContainer, write_Track\n",
        "from midi2audio import FluidSynth\n",
        "\n",
        "fsy = FluidSynth()\n",
        "\n",
        "# imports for data manipulation\n",
        "import numpy as np\n",
        "import pandas as pd\n",
        "from sklearn.model_selection import train_test_split\n",
        "\n",
        "# imports for machine learning\n",
        "import keras\n",
        "from keras.models import Sequential\n",
        "from keras.layers import Dense, LSTM"
      ],
      "execution_count": null,
      "outputs": [
        {
          "output_type": "stream",
          "text": [
            "Reading package lists... Done\n",
            "Building dependency tree       \n",
            "Reading state information... Done\n",
            "The following additional packages will be installed:\n",
            "  fluid-soundfont-gm libfluidsynth1 libqt5x11extras5 qsynth\n",
            "Suggested packages:\n",
            "  fluid-soundfont-gs timidity jackd\n",
            "The following NEW packages will be installed:\n",
            "  fluid-soundfont-gm fluidsynth libfluidsynth1 libqt5x11extras5 qsynth\n",
            "0 upgraded, 5 newly installed, 0 to remove and 30 not upgraded.\n",
            "Need to get 120 MB of archives.\n",
            "After this operation, 150 MB of additional disk space will be used.\n",
            "Get:1 http://archive.ubuntu.com/ubuntu bionic/universe amd64 fluid-soundfont-gm all 3.1-5.1 [119 MB]\n",
            "Get:2 http://archive.ubuntu.com/ubuntu bionic/universe amd64 libfluidsynth1 amd64 1.1.9-1 [137 kB]\n",
            "Get:3 http://archive.ubuntu.com/ubuntu bionic/universe amd64 fluidsynth amd64 1.1.9-1 [20.7 kB]\n",
            "Get:4 http://archive.ubuntu.com/ubuntu bionic/universe amd64 libqt5x11extras5 amd64 5.9.5-0ubuntu1 [8,596 B]\n",
            "Get:5 http://archive.ubuntu.com/ubuntu bionic/universe amd64 qsynth amd64 0.5.0-2 [191 kB]\n",
            "Fetched 120 MB in 5s (26.5 MB/s)\n",
            "debconf: unable to initialize frontend: Dialog\n",
            "debconf: (No usable dialog-like program is installed, so the dialog based frontend cannot be used. at /usr/share/perl5/Debconf/FrontEnd/Dialog.pm line 76, <> line 5.)\n",
            "debconf: falling back to frontend: Readline\n",
            "debconf: unable to initialize frontend: Readline\n",
            "debconf: (This frontend requires a controlling tty.)\n",
            "debconf: falling back to frontend: Teletype\n",
            "dpkg-preconfigure: unable to re-open stdin: \n",
            "Selecting previously unselected package fluid-soundfont-gm.\n",
            "(Reading database ... 160980 files and directories currently installed.)\n",
            "Preparing to unpack .../fluid-soundfont-gm_3.1-5.1_all.deb ...\n",
            "Unpacking fluid-soundfont-gm (3.1-5.1) ...\n",
            "Selecting previously unselected package libfluidsynth1:amd64.\n",
            "Preparing to unpack .../libfluidsynth1_1.1.9-1_amd64.deb ...\n",
            "Unpacking libfluidsynth1:amd64 (1.1.9-1) ...\n",
            "Selecting previously unselected package fluidsynth.\n",
            "Preparing to unpack .../fluidsynth_1.1.9-1_amd64.deb ...\n",
            "Unpacking fluidsynth (1.1.9-1) ...\n",
            "Selecting previously unselected package libqt5x11extras5:amd64.\n",
            "Preparing to unpack .../libqt5x11extras5_5.9.5-0ubuntu1_amd64.deb ...\n",
            "Unpacking libqt5x11extras5:amd64 (5.9.5-0ubuntu1) ...\n",
            "Selecting previously unselected package qsynth.\n",
            "Preparing to unpack .../qsynth_0.5.0-2_amd64.deb ...\n",
            "Unpacking qsynth (0.5.0-2) ...\n",
            "Setting up libqt5x11extras5:amd64 (5.9.5-0ubuntu1) ...\n",
            "Setting up fluid-soundfont-gm (3.1-5.1) ...\n",
            "Setting up libfluidsynth1:amd64 (1.1.9-1) ...\n",
            "Setting up fluidsynth (1.1.9-1) ...\n",
            "Setting up qsynth (0.5.0-2) ...\n",
            "Processing triggers for hicolor-icon-theme (0.17-2) ...\n",
            "Processing triggers for mime-support (3.60ubuntu1) ...\n",
            "Processing triggers for libc-bin (2.27-3ubuntu1.2) ...\n",
            "/sbin/ldconfig.real: /usr/local/lib/python3.7/dist-packages/ideep4py/lib/libmkldnn.so.0 is not a symbolic link\n",
            "\n",
            "Processing triggers for man-db (2.8.3-2ubuntu0.1) ...\n",
            "Requirement already satisfied: midi2audio in /usr/local/lib/python3.7/dist-packages (0.1.1)\n",
            "Requirement already satisfied: mingus in /usr/local/lib/python3.7/dist-packages (0.6.1)\n",
            "Requirement already satisfied: six in /usr/local/lib/python3.7/dist-packages (from mingus) (1.15.0)\n"
          ],
          "name": "stdout"
        }
      ]
    },
    {
      "cell_type": "code",
      "metadata": {
        "id": "wR_1giDiDHN4"
      },
      "source": [
        "# read in the notes, make an array with 0's, except for the current note\n",
        "def read_and_format(input_filepath):\n",
        "  input_data = []\n",
        "  with open(input_filepath) as input_file:\n",
        "    for line in input_file:\n",
        "      values = line.split(\",\")\n",
        "      for value in values:\n",
        "        tmp = [0.0] * 88\n",
        "        v = int(value)\n",
        "        tmp[v-1] = 1.0\n",
        "        input_data.append(tmp)\n",
        "  \n",
        "  return input_data\n",
        "  \n",
        "\n",
        "input_data = read_and_format(\"k330-allegro-moderato.csv\")"
      ],
      "execution_count": null,
      "outputs": []
    },
    {
      "cell_type": "code",
      "metadata": {
        "id": "ZZmz0vCDrdfe",
        "colab": {
          "base_uri": "https://localhost:8080/"
        },
        "outputId": "ac9ece5c-2fb3-40fa-d195-3a6a1914afa6"
      },
      "source": [
        "# get the previous 20 notes, predict the next note\n",
        "def generate_datasets(input_array, n_prev = 20):\n",
        "  temp_x = [input_array[i:i+n_prev] for i in range(len(input_array) - n_prev)]\n",
        "  temp_y = [input_array[i+n_prev] for i in range(len(input_array) - n_prev)]\n",
        "\n",
        "  return np.array(temp_x), np.array(temp_y)\n",
        "\n",
        "x, y = generate_datasets(input_data)\n",
        "x_train, x_test, y_train, y_test = train_test_split(x, y, test_size=0.20, shuffle=True)\n",
        "\n",
        "print(x_train.shape, y_train.shape)\n",
        "print(x_test.shape, y_test.shape)\n",
        "print(y_train[0])"
      ],
      "execution_count": null,
      "outputs": [
        {
          "output_type": "stream",
          "text": [
            "(2008, 20, 88) (2008, 88)\n",
            "(502, 20, 88) (502, 88)\n",
            "[0. 0. 0. 0. 0. 0. 0. 0. 0. 0. 0. 0. 0. 0. 0. 0. 0. 0. 0. 0. 0. 0. 0. 0.\n",
            " 0. 0. 0. 0. 0. 0. 0. 0. 0. 0. 0. 0. 0. 0. 0. 0. 0. 0. 0. 0. 0. 0. 0. 0.\n",
            " 0. 0. 1. 0. 0. 0. 0. 0. 0. 0. 0. 0. 0. 0. 0. 0. 0. 0. 0. 0. 0. 0. 0. 0.\n",
            " 0. 0. 0. 0. 0. 0. 0. 0. 0. 0. 0. 0. 0. 0. 0. 0.]\n"
          ],
          "name": "stdout"
        }
      ]
    },
    {
      "cell_type": "code",
      "metadata": {
        "id": "Be0VQFAlqlPA"
      },
      "source": [
        "# build the model itself\n",
        "model = Sequential()\n",
        "model.add(LSTM(30))\n",
        "model.add(Dense(88, activation=\"softmax\"))\n",
        "model.compile(loss='categorical_crossentropy', optimizer='adam', metrics=['accuracy'])"
      ],
      "execution_count": null,
      "outputs": []
    },
    {
      "cell_type": "code",
      "metadata": {
        "id": "odZ6VCKIsLJ8",
        "colab": {
          "base_uri": "https://localhost:8080/"
        },
        "outputId": "a7af6fb1-ee80-4f39-986b-7a83072a56c7"
      },
      "source": [
        "# train the model\n",
        "model.fit(x_train, y_train, batch_size=10, epochs=100, validation_split=0.05)"
      ],
      "execution_count": null,
      "outputs": [
        {
          "output_type": "stream",
          "text": [
            "Epoch 1/100\n",
            "191/191 [==============================] - 5s 13ms/step - loss: 3.6925 - accuracy: 0.0915 - val_loss: 2.9033 - val_accuracy: 0.1287\n",
            "Epoch 2/100\n",
            "191/191 [==============================] - 2s 10ms/step - loss: 2.6368 - accuracy: 0.1662 - val_loss: 2.8612 - val_accuracy: 0.1287\n",
            "Epoch 3/100\n",
            "191/191 [==============================] - 2s 10ms/step - loss: 2.6247 - accuracy: 0.1678 - val_loss: 2.8293 - val_accuracy: 0.1287\n",
            "Epoch 4/100\n",
            "191/191 [==============================] - 2s 10ms/step - loss: 2.5818 - accuracy: 0.1751 - val_loss: 2.7927 - val_accuracy: 0.1584\n",
            "Epoch 5/100\n",
            "191/191 [==============================] - 2s 10ms/step - loss: 2.5643 - accuracy: 0.2007 - val_loss: 2.7643 - val_accuracy: 0.1782\n",
            "Epoch 6/100\n",
            "191/191 [==============================] - 2s 10ms/step - loss: 2.5164 - accuracy: 0.2176 - val_loss: 2.7194 - val_accuracy: 0.2178\n",
            "Epoch 7/100\n",
            "191/191 [==============================] - 2s 10ms/step - loss: 2.4398 - accuracy: 0.2360 - val_loss: 2.6767 - val_accuracy: 0.2178\n",
            "Epoch 8/100\n",
            "191/191 [==============================] - 2s 10ms/step - loss: 2.3702 - accuracy: 0.2677 - val_loss: 2.6208 - val_accuracy: 0.1980\n",
            "Epoch 9/100\n",
            "191/191 [==============================] - 2s 10ms/step - loss: 2.2622 - accuracy: 0.2742 - val_loss: 2.5634 - val_accuracy: 0.1881\n",
            "Epoch 10/100\n",
            "191/191 [==============================] - 2s 10ms/step - loss: 2.1879 - accuracy: 0.3219 - val_loss: 2.5215 - val_accuracy: 0.2277\n",
            "Epoch 11/100\n",
            "191/191 [==============================] - 2s 10ms/step - loss: 2.1229 - accuracy: 0.3511 - val_loss: 2.4881 - val_accuracy: 0.1881\n",
            "Epoch 12/100\n",
            "191/191 [==============================] - 2s 10ms/step - loss: 2.0331 - accuracy: 0.3512 - val_loss: 2.4541 - val_accuracy: 0.2376\n",
            "Epoch 13/100\n",
            "191/191 [==============================] - 2s 10ms/step - loss: 2.0007 - accuracy: 0.3615 - val_loss: 2.4575 - val_accuracy: 0.1881\n",
            "Epoch 14/100\n",
            "191/191 [==============================] - 2s 10ms/step - loss: 1.9295 - accuracy: 0.3665 - val_loss: 2.4040 - val_accuracy: 0.2376\n",
            "Epoch 15/100\n",
            "191/191 [==============================] - 2s 10ms/step - loss: 1.8998 - accuracy: 0.3919 - val_loss: 2.3789 - val_accuracy: 0.2376\n",
            "Epoch 16/100\n",
            "191/191 [==============================] - 2s 10ms/step - loss: 1.8991 - accuracy: 0.4107 - val_loss: 2.3795 - val_accuracy: 0.2772\n",
            "Epoch 17/100\n",
            "191/191 [==============================] - 2s 10ms/step - loss: 1.8259 - accuracy: 0.4188 - val_loss: 2.3797 - val_accuracy: 0.2178\n",
            "Epoch 18/100\n",
            "191/191 [==============================] - 2s 10ms/step - loss: 1.8037 - accuracy: 0.4232 - val_loss: 2.3778 - val_accuracy: 0.2475\n",
            "Epoch 19/100\n",
            "191/191 [==============================] - 2s 10ms/step - loss: 1.7705 - accuracy: 0.4393 - val_loss: 2.3380 - val_accuracy: 0.2574\n",
            "Epoch 20/100\n",
            "191/191 [==============================] - 2s 10ms/step - loss: 1.7460 - accuracy: 0.4436 - val_loss: 2.2815 - val_accuracy: 0.2673\n",
            "Epoch 21/100\n",
            "191/191 [==============================] - 2s 10ms/step - loss: 1.7612 - accuracy: 0.4386 - val_loss: 2.2986 - val_accuracy: 0.2673\n",
            "Epoch 22/100\n",
            "191/191 [==============================] - 2s 10ms/step - loss: 1.6780 - accuracy: 0.4726 - val_loss: 2.2458 - val_accuracy: 0.2970\n",
            "Epoch 23/100\n",
            "191/191 [==============================] - 2s 10ms/step - loss: 1.6124 - accuracy: 0.4909 - val_loss: 2.2372 - val_accuracy: 0.2970\n",
            "Epoch 24/100\n",
            "191/191 [==============================] - 2s 10ms/step - loss: 1.6277 - accuracy: 0.4900 - val_loss: 2.2263 - val_accuracy: 0.2871\n",
            "Epoch 25/100\n",
            "191/191 [==============================] - 2s 10ms/step - loss: 1.5651 - accuracy: 0.5284 - val_loss: 2.2559 - val_accuracy: 0.2970\n",
            "Epoch 26/100\n",
            "191/191 [==============================] - 2s 10ms/step - loss: 1.5236 - accuracy: 0.5482 - val_loss: 2.1522 - val_accuracy: 0.3564\n",
            "Epoch 27/100\n",
            "191/191 [==============================] - 2s 10ms/step - loss: 1.4856 - accuracy: 0.5398 - val_loss: 2.1667 - val_accuracy: 0.3663\n",
            "Epoch 28/100\n",
            "191/191 [==============================] - 2s 10ms/step - loss: 1.4692 - accuracy: 0.5604 - val_loss: 2.1447 - val_accuracy: 0.3465\n",
            "Epoch 29/100\n",
            "191/191 [==============================] - 2s 10ms/step - loss: 1.4401 - accuracy: 0.5674 - val_loss: 2.1483 - val_accuracy: 0.3267\n",
            "Epoch 30/100\n",
            "191/191 [==============================] - 2s 10ms/step - loss: 1.4110 - accuracy: 0.5699 - val_loss: 2.1151 - val_accuracy: 0.3564\n",
            "Epoch 31/100\n",
            "191/191 [==============================] - 2s 10ms/step - loss: 1.3417 - accuracy: 0.6042 - val_loss: 2.1243 - val_accuracy: 0.3663\n",
            "Epoch 32/100\n",
            "191/191 [==============================] - 2s 10ms/step - loss: 1.3600 - accuracy: 0.5930 - val_loss: 2.1258 - val_accuracy: 0.3465\n",
            "Epoch 33/100\n",
            "191/191 [==============================] - 2s 10ms/step - loss: 1.3325 - accuracy: 0.5824 - val_loss: 2.0882 - val_accuracy: 0.3861\n",
            "Epoch 34/100\n",
            "191/191 [==============================] - 2s 10ms/step - loss: 1.3314 - accuracy: 0.5795 - val_loss: 2.0679 - val_accuracy: 0.3564\n",
            "Epoch 35/100\n",
            "191/191 [==============================] - 2s 11ms/step - loss: 1.2929 - accuracy: 0.6110 - val_loss: 2.0808 - val_accuracy: 0.3861\n",
            "Epoch 36/100\n",
            "191/191 [==============================] - 2s 10ms/step - loss: 1.2755 - accuracy: 0.5927 - val_loss: 2.0477 - val_accuracy: 0.4059\n",
            "Epoch 37/100\n",
            "191/191 [==============================] - 2s 10ms/step - loss: 1.2761 - accuracy: 0.6069 - val_loss: 2.0328 - val_accuracy: 0.3960\n",
            "Epoch 38/100\n",
            "191/191 [==============================] - 2s 10ms/step - loss: 1.2351 - accuracy: 0.6133 - val_loss: 2.0376 - val_accuracy: 0.4059\n",
            "Epoch 39/100\n",
            "191/191 [==============================] - 2s 10ms/step - loss: 1.2273 - accuracy: 0.6081 - val_loss: 2.0108 - val_accuracy: 0.3861\n",
            "Epoch 40/100\n",
            "191/191 [==============================] - 2s 10ms/step - loss: 1.1552 - accuracy: 0.6566 - val_loss: 2.0147 - val_accuracy: 0.4059\n",
            "Epoch 41/100\n",
            "191/191 [==============================] - 2s 10ms/step - loss: 1.1257 - accuracy: 0.6734 - val_loss: 1.9635 - val_accuracy: 0.4455\n",
            "Epoch 42/100\n",
            "191/191 [==============================] - 2s 10ms/step - loss: 1.1339 - accuracy: 0.6504 - val_loss: 1.9299 - val_accuracy: 0.4059\n",
            "Epoch 43/100\n",
            "191/191 [==============================] - 2s 10ms/step - loss: 1.0618 - accuracy: 0.6633 - val_loss: 1.9534 - val_accuracy: 0.4257\n",
            "Epoch 44/100\n",
            "191/191 [==============================] - 2s 10ms/step - loss: 1.0673 - accuracy: 0.6729 - val_loss: 1.9016 - val_accuracy: 0.4257\n",
            "Epoch 45/100\n",
            "191/191 [==============================] - 2s 10ms/step - loss: 1.0289 - accuracy: 0.6828 - val_loss: 1.9097 - val_accuracy: 0.4455\n",
            "Epoch 46/100\n",
            "191/191 [==============================] - 2s 10ms/step - loss: 1.0243 - accuracy: 0.6784 - val_loss: 1.8891 - val_accuracy: 0.4653\n",
            "Epoch 47/100\n",
            "191/191 [==============================] - 2s 10ms/step - loss: 1.0320 - accuracy: 0.6908 - val_loss: 1.9172 - val_accuracy: 0.4257\n",
            "Epoch 48/100\n",
            "191/191 [==============================] - 2s 10ms/step - loss: 0.9958 - accuracy: 0.7001 - val_loss: 1.8960 - val_accuracy: 0.4554\n",
            "Epoch 49/100\n",
            "191/191 [==============================] - 2s 10ms/step - loss: 0.9963 - accuracy: 0.6994 - val_loss: 1.8573 - val_accuracy: 0.4752\n",
            "Epoch 50/100\n",
            "191/191 [==============================] - 2s 10ms/step - loss: 0.9807 - accuracy: 0.7120 - val_loss: 1.7985 - val_accuracy: 0.4752\n",
            "Epoch 51/100\n",
            "191/191 [==============================] - 2s 10ms/step - loss: 0.9179 - accuracy: 0.7253 - val_loss: 1.8373 - val_accuracy: 0.4752\n",
            "Epoch 52/100\n",
            "191/191 [==============================] - 2s 10ms/step - loss: 0.8844 - accuracy: 0.7381 - val_loss: 1.7979 - val_accuracy: 0.4851\n",
            "Epoch 53/100\n",
            "191/191 [==============================] - 2s 10ms/step - loss: 0.8853 - accuracy: 0.7428 - val_loss: 1.7894 - val_accuracy: 0.4653\n",
            "Epoch 54/100\n",
            "191/191 [==============================] - 2s 10ms/step - loss: 0.8727 - accuracy: 0.7363 - val_loss: 1.7863 - val_accuracy: 0.4950\n",
            "Epoch 55/100\n",
            "191/191 [==============================] - 2s 10ms/step - loss: 0.8544 - accuracy: 0.7547 - val_loss: 1.7801 - val_accuracy: 0.4851\n",
            "Epoch 56/100\n",
            "191/191 [==============================] - 2s 10ms/step - loss: 0.9069 - accuracy: 0.7273 - val_loss: 1.7672 - val_accuracy: 0.4851\n",
            "Epoch 57/100\n",
            "191/191 [==============================] - 2s 10ms/step - loss: 0.7924 - accuracy: 0.7747 - val_loss: 1.7220 - val_accuracy: 0.5248\n",
            "Epoch 58/100\n",
            "191/191 [==============================] - 2s 10ms/step - loss: 0.7777 - accuracy: 0.7873 - val_loss: 1.7552 - val_accuracy: 0.4752\n",
            "Epoch 59/100\n",
            "191/191 [==============================] - 2s 10ms/step - loss: 0.7937 - accuracy: 0.7804 - val_loss: 1.7482 - val_accuracy: 0.5149\n",
            "Epoch 60/100\n",
            "191/191 [==============================] - 2s 10ms/step - loss: 0.7922 - accuracy: 0.7666 - val_loss: 1.7291 - val_accuracy: 0.4851\n",
            "Epoch 61/100\n",
            "191/191 [==============================] - 2s 10ms/step - loss: 0.7695 - accuracy: 0.7909 - val_loss: 1.6910 - val_accuracy: 0.5248\n",
            "Epoch 62/100\n",
            "191/191 [==============================] - 2s 10ms/step - loss: 0.7443 - accuracy: 0.7994 - val_loss: 1.6862 - val_accuracy: 0.5446\n",
            "Epoch 63/100\n",
            "191/191 [==============================] - 2s 10ms/step - loss: 0.7927 - accuracy: 0.7717 - val_loss: 1.7178 - val_accuracy: 0.5545\n",
            "Epoch 64/100\n",
            "191/191 [==============================] - 2s 10ms/step - loss: 0.7523 - accuracy: 0.7678 - val_loss: 1.6697 - val_accuracy: 0.5050\n",
            "Epoch 65/100\n",
            "191/191 [==============================] - 2s 10ms/step - loss: 0.7399 - accuracy: 0.7831 - val_loss: 1.6612 - val_accuracy: 0.5842\n",
            "Epoch 66/100\n",
            "191/191 [==============================] - 2s 10ms/step - loss: 0.7048 - accuracy: 0.8058 - val_loss: 1.7010 - val_accuracy: 0.5248\n",
            "Epoch 67/100\n",
            "191/191 [==============================] - 2s 10ms/step - loss: 0.6668 - accuracy: 0.8183 - val_loss: 1.6358 - val_accuracy: 0.5644\n",
            "Epoch 68/100\n",
            "191/191 [==============================] - 2s 10ms/step - loss: 0.6526 - accuracy: 0.8053 - val_loss: 1.6451 - val_accuracy: 0.5446\n",
            "Epoch 69/100\n",
            "191/191 [==============================] - 2s 10ms/step - loss: 0.6656 - accuracy: 0.8103 - val_loss: 1.6376 - val_accuracy: 0.5644\n",
            "Epoch 70/100\n",
            "191/191 [==============================] - 2s 10ms/step - loss: 0.6414 - accuracy: 0.8212 - val_loss: 1.6240 - val_accuracy: 0.5842\n",
            "Epoch 71/100\n",
            "191/191 [==============================] - 2s 10ms/step - loss: 0.6808 - accuracy: 0.8019 - val_loss: 1.5801 - val_accuracy: 0.6040\n",
            "Epoch 72/100\n",
            "191/191 [==============================] - 2s 10ms/step - loss: 0.5861 - accuracy: 0.8334 - val_loss: 1.6118 - val_accuracy: 0.5842\n",
            "Epoch 73/100\n",
            "191/191 [==============================] - 2s 10ms/step - loss: 0.5682 - accuracy: 0.8373 - val_loss: 1.5743 - val_accuracy: 0.5743\n",
            "Epoch 74/100\n",
            "191/191 [==============================] - 2s 10ms/step - loss: 0.6074 - accuracy: 0.8149 - val_loss: 1.6157 - val_accuracy: 0.5842\n",
            "Epoch 75/100\n",
            "191/191 [==============================] - 2s 10ms/step - loss: 0.6019 - accuracy: 0.8286 - val_loss: 1.5846 - val_accuracy: 0.5545\n",
            "Epoch 76/100\n",
            "191/191 [==============================] - 2s 10ms/step - loss: 0.5529 - accuracy: 0.8410 - val_loss: 1.5551 - val_accuracy: 0.5743\n",
            "Epoch 77/100\n",
            "191/191 [==============================] - 2s 10ms/step - loss: 0.5838 - accuracy: 0.8336 - val_loss: 1.6189 - val_accuracy: 0.5644\n",
            "Epoch 78/100\n",
            "191/191 [==============================] - 2s 10ms/step - loss: 0.5863 - accuracy: 0.8327 - val_loss: 1.5396 - val_accuracy: 0.5941\n",
            "Epoch 79/100\n",
            "191/191 [==============================] - 2s 10ms/step - loss: 0.5779 - accuracy: 0.8435 - val_loss: 1.5745 - val_accuracy: 0.6436\n",
            "Epoch 80/100\n",
            "191/191 [==============================] - 2s 10ms/step - loss: 0.5600 - accuracy: 0.8442 - val_loss: 1.5663 - val_accuracy: 0.5743\n",
            "Epoch 81/100\n",
            "191/191 [==============================] - 2s 10ms/step - loss: 0.5291 - accuracy: 0.8468 - val_loss: 1.5265 - val_accuracy: 0.6436\n",
            "Epoch 82/100\n",
            "191/191 [==============================] - 2s 10ms/step - loss: 0.5234 - accuracy: 0.8570 - val_loss: 1.5714 - val_accuracy: 0.6139\n",
            "Epoch 83/100\n",
            "191/191 [==============================] - 2s 10ms/step - loss: 0.4990 - accuracy: 0.8593 - val_loss: 1.5846 - val_accuracy: 0.5842\n",
            "Epoch 84/100\n",
            "191/191 [==============================] - 2s 10ms/step - loss: 0.4566 - accuracy: 0.8778 - val_loss: 1.6211 - val_accuracy: 0.6436\n",
            "Epoch 85/100\n",
            "191/191 [==============================] - 2s 10ms/step - loss: 0.4835 - accuracy: 0.8628 - val_loss: 1.5161 - val_accuracy: 0.6139\n",
            "Epoch 86/100\n",
            "191/191 [==============================] - 2s 10ms/step - loss: 0.4614 - accuracy: 0.8792 - val_loss: 1.6354 - val_accuracy: 0.5941\n",
            "Epoch 87/100\n",
            "191/191 [==============================] - 2s 10ms/step - loss: 0.4441 - accuracy: 0.8843 - val_loss: 1.5522 - val_accuracy: 0.6238\n",
            "Epoch 88/100\n",
            "191/191 [==============================] - 2s 10ms/step - loss: 0.4542 - accuracy: 0.8781 - val_loss: 1.5592 - val_accuracy: 0.6238\n",
            "Epoch 89/100\n",
            "191/191 [==============================] - 2s 10ms/step - loss: 0.4481 - accuracy: 0.8780 - val_loss: 1.5294 - val_accuracy: 0.6535\n",
            "Epoch 90/100\n",
            "191/191 [==============================] - 2s 10ms/step - loss: 0.4044 - accuracy: 0.8907 - val_loss: 1.5244 - val_accuracy: 0.6634\n",
            "Epoch 91/100\n",
            "191/191 [==============================] - 2s 10ms/step - loss: 0.4564 - accuracy: 0.8739 - val_loss: 1.5441 - val_accuracy: 0.6238\n",
            "Epoch 92/100\n",
            "191/191 [==============================] - 2s 10ms/step - loss: 0.4591 - accuracy: 0.8795 - val_loss: 1.5135 - val_accuracy: 0.6535\n",
            "Epoch 93/100\n",
            "191/191 [==============================] - 2s 10ms/step - loss: 0.4023 - accuracy: 0.9034 - val_loss: 1.7124 - val_accuracy: 0.5545\n",
            "Epoch 94/100\n",
            "191/191 [==============================] - 2s 10ms/step - loss: 0.4945 - accuracy: 0.8598 - val_loss: 1.5394 - val_accuracy: 0.6238\n",
            "Epoch 95/100\n",
            "191/191 [==============================] - 2s 10ms/step - loss: 0.3961 - accuracy: 0.9082 - val_loss: 1.5259 - val_accuracy: 0.6733\n",
            "Epoch 96/100\n",
            "191/191 [==============================] - 2s 10ms/step - loss: 0.3735 - accuracy: 0.9115 - val_loss: 1.5200 - val_accuracy: 0.6733\n",
            "Epoch 97/100\n",
            "191/191 [==============================] - 2s 10ms/step - loss: 0.3418 - accuracy: 0.9166 - val_loss: 1.5358 - val_accuracy: 0.6832\n",
            "Epoch 98/100\n",
            "191/191 [==============================] - 2s 10ms/step - loss: 0.3678 - accuracy: 0.9161 - val_loss: 1.5198 - val_accuracy: 0.6931\n",
            "Epoch 99/100\n",
            "191/191 [==============================] - 2s 10ms/step - loss: 0.3633 - accuracy: 0.9053 - val_loss: 1.6625 - val_accuracy: 0.6634\n",
            "Epoch 100/100\n",
            "191/191 [==============================] - 2s 10ms/step - loss: 0.4591 - accuracy: 0.8635 - val_loss: 1.6208 - val_accuracy: 0.6238\n"
          ],
          "name": "stdout"
        },
        {
          "output_type": "execute_result",
          "data": {
            "text/plain": [
              "<tensorflow.python.keras.callbacks.History at 0x7fa7c5d5a050>"
            ]
          },
          "metadata": {
            "tags": []
          },
          "execution_count": 14
        }
      ]
    },
    {
      "cell_type": "code",
      "metadata": {
        "id": "ucPR1Hp5vIUT",
        "colab": {
          "base_uri": "https://localhost:8080/"
        },
        "outputId": "f06ec29b-c80e-4fdd-e240-49db022afc86"
      },
      "source": [
        "# test the model\n",
        "model.evaluate(x_test, y_test)"
      ],
      "execution_count": null,
      "outputs": [
        {
          "output_type": "stream",
          "text": [
            "16/16 [==============================] - 0s 3ms/step - loss: 1.0748 - accuracy: 0.7092\n"
          ],
          "name": "stdout"
        },
        {
          "output_type": "execute_result",
          "data": {
            "text/plain": [
              "[1.0747835636138916, 0.7091633677482605]"
            ]
          },
          "metadata": {
            "tags": []
          },
          "execution_count": 15
        }
      ]
    },
    {
      "cell_type": "code",
      "metadata": {
        "id": "kPvGpGVwNIoD",
        "colab": {
          "base_uri": "https://localhost:8080/"
        },
        "outputId": "58d79dfa-a1c8-40eb-963c-9bccdd08ac36"
      },
      "source": [
        "# See incorrectly predicted \n",
        "predictions = model.predict(x_test)\n",
        "incorrect_indices = []\n",
        "for (index, (prediction, target)) in enumerate(zip(predictions, y_test)):\n",
        "  pred = np.argmax(prediction)\n",
        "  tar = np.argmax(target)\n",
        "  if pred != tar:\n",
        "    incorrect_indices.append(index)\n",
        "\n",
        "print(\", \".join(map(str, incorrect_indices)))"
      ],
      "execution_count": null,
      "outputs": [
        {
          "output_type": "stream",
          "text": [
            "1, 6, 8, 10, 11, 12, 17, 25, 29, 30, 31, 39, 42, 45, 46, 48, 58, 80, 83, 84, 86, 88, 89, 95, 97, 105, 107, 109, 111, 118, 126, 137, 140, 143, 144, 145, 146, 147, 149, 150, 152, 154, 156, 158, 160, 161, 162, 164, 167, 168, 169, 178, 180, 182, 185, 188, 192, 193, 200, 201, 202, 203, 206, 210, 212, 217, 226, 231, 236, 239, 245, 246, 247, 250, 253, 254, 257, 268, 269, 274, 277, 278, 279, 281, 285, 286, 288, 290, 292, 296, 297, 301, 303, 316, 317, 329, 330, 346, 353, 357, 359, 361, 362, 363, 365, 367, 368, 371, 377, 378, 382, 385, 387, 397, 402, 405, 407, 411, 416, 418, 421, 424, 426, 428, 429, 431, 434, 435, 443, 445, 449, 450, 452, 454, 462, 463, 465, 468, 471, 473, 478, 485, 487, 488, 498, 501\n"
          ],
          "name": "stdout"
        }
      ]
    },
    {
      "cell_type": "code",
      "metadata": {
        "id": "X2WwsRUFm5u0",
        "colab": {
          "base_uri": "https://localhost:8080/"
        },
        "outputId": "e6688003-a59e-45ec-d06d-aa9bf666b98d"
      },
      "source": [
        "# Predict song\n",
        "test_in = x_test[0]\n",
        "test_out = y_test[0]\n",
        "# initial - provide inital 20 notes\n",
        "# n - how many predicted notes to add (i.e. expand by this number)\n",
        "def make_big_song(initial, n):\n",
        "  res =[ x for x in initial]\n",
        "  for _ in range(n):\n",
        "    next = model.predict(np.array([res[-20:],]))[0]\n",
        "    res.append(next)\n",
        "\n",
        "  return np.array(res)\n",
        "\n",
        "test = make_big_song(test_in, 60)\n",
        "print(test.shape)"
      ],
      "execution_count": null,
      "outputs": [
        {
          "output_type": "stream",
          "text": [
            "(80, 88)\n"
          ],
          "name": "stdout"
        }
      ]
    },
    {
      "cell_type": "code",
      "metadata": {
        "id": "u7AKlNEV4THd",
        "colab": {
          "base_uri": "https://localhost:8080/"
        },
        "outputId": "0a930e03-9fa9-430b-c416-4b3557e32bb4"
      },
      "source": [
        "# Expects n x 88\n",
        "def vector_to_midi(arr, filename=\"nice.midi\"):\n",
        "  track = Track()\n",
        "  for note_arr in arr:\n",
        "    note_num = int(np.argmax(note_arr))\n",
        "    note = Note()\n",
        "    note.from_int(note_num - 3)\n",
        "    track.add_notes(note)\n",
        "  write_Track(filename, track)\n",
        "  print(\"Done!\")\n",
        "  \n",
        "vector_to_midi(test)"
      ],
      "execution_count": null,
      "outputs": [
        {
          "output_type": "stream",
          "text": [
            "Done!\n"
          ],
          "name": "stdout"
        }
      ]
    },
    {
      "cell_type": "code",
      "metadata": {
        "colab": {
          "base_uri": "https://localhost:8080/"
        },
        "id": "aXdjXdBXQ1Hs",
        "outputId": "0df4d06c-7901-445c-d99d-bd0d65fccd6c"
      },
      "source": [
        "def predict_to_file(first_20_notes, expected, filename=\"nice\"):\n",
        "  next = model.predict(np.array([first_20_notes]))\n",
        "  actual_next = np.array([expected])\n",
        "  next_file = filename + \"_predicted_note\"\n",
        "  actual_next_file = filename + \"_actual_note\"\n",
        "  orig_file = filename + \"_first_20_notes\"\n",
        "\n",
        "  vector_to_midi(next, next_file + \".midi\")\n",
        "  vector_to_midi(actual_next, actual_next_file + \".midi\")\n",
        "  vector_to_midi(first_20_notes, orig_file + \".midi\")\n",
        "\n",
        "  # This conversion not seem to work\n",
        "  # fsy.midi_to_audio(next_file + \".midi\", next_file + \".mp3\")\n",
        "  # fsy.midi_to_audio(actual_next_file + \".midi\", actual_next_file + \".mp3\")\n",
        "  # fsy.midi_to_audio(orig_file + \".midi\",  orig_file + \".mp3\")\n",
        "\n",
        "predict_to_file(test_in, test_out)\n",
        "\n",
        "inci = incorrect_indices[0]\n",
        "predict_to_file(x_test[inci], y_test[inci], 'first_incorrect')\n"
      ],
      "execution_count": null,
      "outputs": [
        {
          "output_type": "stream",
          "text": [
            "Done!\n",
            "Done!\n",
            "Done!\n",
            "Done!\n",
            "Done!\n",
            "Done!\n"
          ],
          "name": "stdout"
        }
      ]
    }
  ]
}